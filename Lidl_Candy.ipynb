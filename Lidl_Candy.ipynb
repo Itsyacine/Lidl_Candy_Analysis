{
 "cells": [
  {
   "cell_type": "code",
   "execution_count": 1,
   "id": "5ba7107f-4261-40e1-ae68-6fdda36cc344",
   "metadata": {},
   "outputs": [],
   "source": [
    "import pandas as pd\n",
    "import statsmodels.api as sm\n",
    "\n",
    "df = pd.read_csv(\"candy-data.csv\")"
   ]
  },
  {
   "cell_type": "code",
   "execution_count": 2,
   "id": "d5200525-7009-4b11-b6a9-0ee2ea0647b8",
   "metadata": {},
   "outputs": [],
   "source": [
    "x = df.drop(columns=['competitorname','sugarpercent','pricepercent','winpercent']) #keep only significant features\n",
    "y = df['winpercent']"
   ]
  },
  {
   "cell_type": "code",
   "execution_count": 3,
   "id": "5244e702-97bb-466c-a18e-5c97edbbdb4c",
   "metadata": {},
   "outputs": [],
   "source": [
    "x = sm.add_constant(x) #add constant"
   ]
  },
  {
   "cell_type": "code",
   "execution_count": 4,
   "id": "0e8dae44-b862-4101-9ba1-2aeb57ac6815",
   "metadata": {},
   "outputs": [],
   "source": [
    "model = sm.OLS(y, x).fit()"
   ]
  },
  {
   "cell_type": "code",
   "execution_count": 7,
   "id": "452814ce-b1c3-4ced-b044-d31b30c4a4df",
   "metadata": {},
   "outputs": [
    {
     "name": "stdout",
     "output_type": "stream",
     "text": [
      "                            OLS Regression Results                            \n",
      "==============================================================================\n",
      "Dep. Variable:             winpercent   R-squared:                       0.515\n",
      "Model:                            OLS   Adj. R-squared:                  0.457\n",
      "Method:                 Least Squares   F-statistic:                     8.842\n",
      "Date:                Thu, 22 May 2025   Prob (F-statistic):           6.05e-09\n",
      "Time:                        18:25:54   Log-Likelihood:                -317.92\n",
      "No. Observations:                  85   AIC:                             655.8\n",
      "Df Residuals:                      75   BIC:                             680.3\n",
      "Df Model:                           9                                         \n",
      "Covariance Type:            nonrobust                                         \n",
      "====================================================================================\n",
      "                       coef    std err          t      P>|t|      [0.025      0.975]\n",
      "------------------------------------------------------------------------------------\n",
      "const               35.0155      4.078      8.586      0.000      26.891      43.140\n",
      "chocolate           19.9058      3.897      5.107      0.000      12.142      27.670\n",
      "fruity              10.2677      3.789      2.710      0.008       2.720      17.815\n",
      "caramel              3.3843      3.603      0.939      0.351      -3.794      10.563\n",
      "peanutyalmondy      10.1410      3.595      2.821      0.006       2.980      17.302\n",
      "nougat               2.4163      5.690      0.425      0.672      -8.918      13.751\n",
      "crispedricewafer     8.9915      5.328      1.688      0.096      -1.622      19.605\n",
      "hard                -4.8726      3.439     -1.417      0.161     -11.724       1.979\n",
      "bar                 -0.7220      4.871     -0.148      0.883     -10.425       8.981\n",
      "pluribus            -0.1599      3.012     -0.053      0.958      -6.159       5.839\n",
      "==============================================================================\n",
      "Omnibus:                        1.753   Durbin-Watson:                   1.801\n",
      "Prob(Omnibus):                  0.416   Jarque-Bera (JB):                1.697\n",
      "Skew:                          -0.258   Prob(JB):                        0.428\n",
      "Kurtosis:                       2.538   Cond. No.                         8.59\n",
      "==============================================================================\n",
      "\n",
      "Notes:\n",
      "[1] Standard Errors assume that the covariance matrix of the errors is correctly specified.\n"
     ]
    }
   ],
   "source": [
    "print(model.summary())"
   ]
  },
  {
   "cell_type": "code",
   "execution_count": null,
   "id": "50063d74-148f-4fd3-a918-2b5c14c14e15",
   "metadata": {},
   "outputs": [],
   "source": []
  }
 ],
 "metadata": {
  "kernelspec": {
   "display_name": "Python 3 (ipykernel)",
   "language": "python",
   "name": "python3"
  },
  "language_info": {
   "codemirror_mode": {
    "name": "ipython",
    "version": 3
   },
   "file_extension": ".py",
   "mimetype": "text/x-python",
   "name": "python",
   "nbconvert_exporter": "python",
   "pygments_lexer": "ipython3",
   "version": "3.12.7"
  }
 },
 "nbformat": 4,
 "nbformat_minor": 5
}
